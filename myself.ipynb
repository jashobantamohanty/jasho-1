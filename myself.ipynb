{
 "cells": [
  {
   "cell_type": "code",
   "execution_count": 2,
   "id": "dc226bc2",
   "metadata": {},
   "outputs": [
    {
     "data": {
      "text/plain": [
       "5.0"
      ]
     },
     "execution_count": 2,
     "metadata": {},
     "output_type": "execute_result"
    }
   ],
   "source": [
    "float(5)"
   ]
  },
  {
   "cell_type": "code",
   "execution_count": 3,
   "id": "3c5fae4e",
   "metadata": {},
   "outputs": [
    {
     "name": "stdout",
     "output_type": "stream",
     "text": [
      "My name is Jashobanta and my age is 23\n"
     ]
    }
   ],
   "source": [
    "name = \"Jashobanta\"\n",
    "age = 23\n",
    "print(\"My name is {} and my age is {}\".format(name,age))"
   ]
  },
  {
   "cell_type": "code",
   "execution_count": 4,
   "id": "801876e7",
   "metadata": {},
   "outputs": [
    {
     "data": {
      "text/plain": [
       "'Certified Data science Course'"
      ]
     },
     "execution_count": 4,
     "metadata": {},
     "output_type": "execute_result"
    }
   ],
   "source": [
    "s1 = \"Certified Data science Course\"\n",
    "s1"
   ]
  },
  {
   "cell_type": "code",
   "execution_count": 5,
   "id": "47b7b704",
   "metadata": {},
   "outputs": [
    {
     "data": {
      "text/plain": [
       "29"
      ]
     },
     "execution_count": 5,
     "metadata": {},
     "output_type": "execute_result"
    }
   ],
   "source": [
    "len(s1)"
   ]
  },
  {
   "cell_type": "code",
   "execution_count": 6,
   "id": "c78a621c",
   "metadata": {},
   "outputs": [
    {
     "data": {
      "text/plain": [
       "'Bangalore'"
      ]
     },
     "execution_count": 6,
     "metadata": {},
     "output_type": "execute_result"
    }
   ],
   "source": [
    "d = {'1':'One','2':[1,{'Two':['Ch','Cbe','Salem',{'Place':[5,6,7,'Bangalore']}]}]}\n",
    "d['2'][1]['Two'][3]['Place'][3]"
   ]
  },
  {
   "cell_type": "code",
   "execution_count": 7,
   "id": "bbe389db",
   "metadata": {},
   "outputs": [
    {
     "data": {
      "text/plain": [
       "'Bangalore'"
      ]
     },
     "execution_count": 7,
     "metadata": {},
     "output_type": "execute_result"
    }
   ],
   "source": [
    "d['2'][1]['Two'][3]['Place'][3]"
   ]
  },
  {
   "cell_type": "code",
   "execution_count": 8,
   "id": "b9a2a7ff",
   "metadata": {},
   "outputs": [
    {
     "data": {
      "text/plain": [
       "29"
      ]
     },
     "execution_count": 8,
     "metadata": {},
     "output_type": "execute_result"
    }
   ],
   "source": [
    "len(s1)"
   ]
  },
  {
   "cell_type": "code",
   "execution_count": 9,
   "id": "bd7f2f9c",
   "metadata": {},
   "outputs": [
    {
     "data": {
      "text/plain": [
       "'f'"
      ]
     },
     "execution_count": 9,
     "metadata": {},
     "output_type": "execute_result"
    }
   ],
   "source": [
    "s1[5]"
   ]
  },
  {
   "cell_type": "code",
   "execution_count": 10,
   "id": "1145faa7",
   "metadata": {},
   "outputs": [
    {
     "data": {
      "text/plain": [
       "'Data science Course'"
      ]
     },
     "execution_count": 10,
     "metadata": {},
     "output_type": "execute_result"
    }
   ],
   "source": [
    "s1[10:]"
   ]
  },
  {
   "cell_type": "code",
   "execution_count": 11,
   "id": "1031e027",
   "metadata": {},
   "outputs": [
    {
     "data": {
      "text/plain": [
       "'ce Course'"
      ]
     },
     "execution_count": 11,
     "metadata": {},
     "output_type": "execute_result"
    }
   ],
   "source": [
    "s1[20:]"
   ]
  },
  {
   "cell_type": "code",
   "execution_count": 12,
   "id": "ae8858bb",
   "metadata": {},
   "outputs": [
    {
     "data": {
      "text/plain": [
       "'DataDataData'"
      ]
     },
     "execution_count": 12,
     "metadata": {},
     "output_type": "execute_result"
    }
   ],
   "source": [
    "str='Certified Data Scientist'\n",
    "s1=str.split()\n",
    "s1[1]*3"
   ]
  },
  {
   "cell_type": "code",
   "execution_count": null,
   "id": "e71f3f76",
   "metadata": {},
   "outputs": [],
   "source": [
    "x=int(input(\"Enter the number\"))\n",
    "if(x<=10 and x>=0):\n",
    "    print(\"The number lies between 1 to 10\")\n",
    "else:\n",
    "    print(\"The number doesnot lies between 1 to 10\")"
   ]
  },
  {
   "cell_type": "markdown",
   "id": "8dbfad59",
   "metadata": {},
   "source": [
    "### sum the numbers from 1 to 20 using for loop"
   ]
  },
  {
   "cell_type": "code",
   "execution_count": null,
   "id": "017d6919",
   "metadata": {},
   "outputs": [],
   "source": [
    "sum=0\n",
    "for x in range(1,21):\n",
    "    sum=sum+x\n",
    "print(sum)"
   ]
  },
  {
   "cell_type": "code",
   "execution_count": null,
   "id": "f5a75688",
   "metadata": {},
   "outputs": [],
   "source": [
    "sum=0\n",
    "for x in range(1,50):\n",
    "    sum=sum+x\n",
    "print(sum)"
   ]
  },
  {
   "cell_type": "code",
   "execution_count": null,
   "id": "adb7c535",
   "metadata": {},
   "outputs": [],
   "source": [
    "for x in range(10,100,5):\n",
    "    print(x)"
   ]
  },
  {
   "cell_type": "code",
   "execution_count": null,
   "id": "9fd31e1f",
   "metadata": {},
   "outputs": [],
   "source": [
    " sq=x**x\n",
    "for i in range(2,6):\n",
    "    print(sq)"
   ]
  },
  {
   "cell_type": "code",
   "execution_count": null,
   "id": "e111fa5e",
   "metadata": {},
   "outputs": [],
   "source": [
    "s1={1,2,4,5,8,1} \n",
    "s2={2,3,4,6,7,3,2}\n",
    "print(\"Maximum and Minimum values are {} and {}\".format(max(s1),min(s2)))"
   ]
  },
  {
   "cell_type": "code",
   "execution_count": null,
   "id": "797e50c4",
   "metadata": {},
   "outputs": [],
   "source": [
    "num=int(input(\"Enter a number\"))\n",
    "print(\"the number to divided is: \",num)\n",
    "if(num%2==0 and num%3==0):\n",
    "    print(\"Divisible by both\")\n",
    "elif(num%2==0):\n",
    "    print(\"Divisible by by 2\")\n",
    "elif(num%3==0):\n",
    "    print(\"Divisble by 3\")\n",
    "else:\n",
    "    print(\"Not divisible by both\")\n"
   ]
  },
  {
   "cell_type": "code",
   "execution_count": null,
   "id": "d90b286f",
   "metadata": {},
   "outputs": [],
   "source": [
    "num=int(input(\"Enter a number\"))\n",
    "print(\"the number to divide is: \", num)\n",
    "if(num%2==0 and num%3==0): # == equals\n",
    "    print(\"Divisbile by both\")\n",
    "elif(num%2==0):\n",
    "    print(\"Divisible by by 2\")\n",
    "elif(num%3==0):\n",
    "    print(\"Divisble by 3\")\n",
    "else:\n",
    "    print(\"Not divisible by both\")\n"
   ]
  },
  {
   "cell_type": "code",
   "execution_count": null,
   "id": "962bf199",
   "metadata": {},
   "outputs": [],
   "source": [
    "list1 = [34,56.5,True,'Hai',45]\n",
    "list1"
   ]
  },
  {
   "cell_type": "code",
   "execution_count": null,
   "id": "9975ef6a",
   "metadata": {},
   "outputs": [],
   "source": [
    "type(list1)"
   ]
  },
  {
   "cell_type": "code",
   "execution_count": null,
   "id": "fe73431c",
   "metadata": {},
   "outputs": [],
   "source": [
    "list1.index(56.5)"
   ]
  },
  {
   "cell_type": "code",
   "execution_count": null,
   "id": "153dfc09",
   "metadata": {},
   "outputs": [],
   "source": [
    "list1[3]"
   ]
  },
  {
   "cell_type": "code",
   "execution_count": null,
   "id": "0f2801c1",
   "metadata": {},
   "outputs": [],
   "source": [
    "list1[2]"
   ]
  },
  {
   "cell_type": "code",
   "execution_count": null,
   "id": "b72a898b",
   "metadata": {},
   "outputs": [],
   "source": [
    "list1.insert(2,45)\n",
    "list1"
   ]
  },
  {
   "cell_type": "code",
   "execution_count": null,
   "id": "45869813",
   "metadata": {},
   "outputs": [],
   "source": [
    "list1.append(30)"
   ]
  },
  {
   "cell_type": "code",
   "execution_count": null,
   "id": "550fd821",
   "metadata": {},
   "outputs": [],
   "source": [
    "list1"
   ]
  },
  {
   "cell_type": "code",
   "execution_count": null,
   "id": "fd5b405c",
   "metadata": {},
   "outputs": [],
   "source": [
    "list1.extend([100,200,300])\n",
    "list1"
   ]
  },
  {
   "cell_type": "code",
   "execution_count": null,
   "id": "fa4586fa",
   "metadata": {},
   "outputs": [],
   "source": [
    "list3=[34, 55, False, 'Hai', 45, 'Thirty', 40, 100, 200, 300, 100, 200]"
   ]
  },
  {
   "cell_type": "code",
   "execution_count": null,
   "id": "f92e7743",
   "metadata": {},
   "outputs": [],
   "source": [
    "list3"
   ]
  },
  {
   "cell_type": "code",
   "execution_count": null,
   "id": "0df5d8a6",
   "metadata": {},
   "outputs": [],
   "source": [
    "list3[4:7]"
   ]
  },
  {
   "cell_type": "code",
   "execution_count": null,
   "id": "516dee2b",
   "metadata": {},
   "outputs": [],
   "source": [
    "list3[::-1]"
   ]
  },
  {
   "cell_type": "code",
   "execution_count": null,
   "id": "86619720",
   "metadata": {},
   "outputs": [],
   "source": [
    "list3[::2]"
   ]
  },
  {
   "cell_type": "code",
   "execution_count": null,
   "id": "ba6518da",
   "metadata": {},
   "outputs": [],
   "source": [
    "list3[7:]"
   ]
  },
  {
   "cell_type": "code",
   "execution_count": null,
   "id": "7da5a70d",
   "metadata": {},
   "outputs": [],
   "source": [
    "list3[-5:]"
   ]
  },
  {
   "cell_type": "code",
   "execution_count": null,
   "id": "402b2d7e",
   "metadata": {},
   "outputs": [],
   "source": [
    "import matplotlib.pyplot as plt\n",
    "import numpy as np\n",
    "import pandas as pd"
   ]
  },
  {
   "cell_type": "code",
   "execution_count": null,
   "id": "67407789",
   "metadata": {},
   "outputs": [],
   "source": [
    "x = np.arange(1,6)\n",
    "x"
   ]
  },
  {
   "cell_type": "code",
   "execution_count": null,
   "id": "035b84bc",
   "metadata": {},
   "outputs": [],
   "source": [
    "### basic plots->line bar narh pie scatter"
   ]
  },
  {
   "cell_type": "code",
   "execution_count": null,
   "id": "7684e622",
   "metadata": {},
   "outputs": [],
   "source": [
    "y = x**2\n",
    "y"
   ]
  },
  {
   "cell_type": "code",
   "execution_count": null,
   "id": "af4ed8c4",
   "metadata": {},
   "outputs": [],
   "source": [
    "plt.plot(x,y)"
   ]
  },
  {
   "cell_type": "code",
   "execution_count": null,
   "id": "2158dcf2",
   "metadata": {
    "scrolled": false
   },
   "outputs": [],
   "source": [
    "plt.plot(x,y,marker='o') "
   ]
  },
  {
   "cell_type": "code",
   "execution_count": null,
   "id": "460ae10c",
   "metadata": {},
   "outputs": [],
   "source": [
    "plt.xlabel('X Axis')"
   ]
  },
  {
   "cell_type": "code",
   "execution_count": null,
   "id": "cfd0048a",
   "metadata": {},
   "outputs": [],
   "source": [
    "plt.bar(x,y)"
   ]
  },
  {
   "cell_type": "code",
   "execution_count": null,
   "id": "3ed0943a",
   "metadata": {},
   "outputs": [],
   "source": [
    "plt.barh(x,y)"
   ]
  },
  {
   "cell_type": "code",
   "execution_count": null,
   "id": "de19ec2a",
   "metadata": {},
   "outputs": [],
   "source": [
    "plt.pie(x)\n",
    "plt.show()"
   ]
  },
  {
   "cell_type": "code",
   "execution_count": null,
   "id": "781fddd1",
   "metadata": {},
   "outputs": [],
   "source": [
    "plt.scatter(x,y)"
   ]
  },
  {
   "cell_type": "code",
   "execution_count": null,
   "id": "5820ce73",
   "metadata": {},
   "outputs": [],
   "source": [
    "x = [1,3,4,6,9]\n",
    "label1 = np.arange(11,16)\n",
    "labels = ['Radius 1', 'Radius 2', 'Radius 3', 'Radius 4', 'Radius 5']\n",
    "y = [i**2 for i in x]\n",
    "plt.plot(x, y)\n",
    "plt.xticks(x, labels, rotation=90)\n",
    "plt.yticks(y,label1)\n",
    "plt.margins(0.25)\n",
    "plt.xlabel('X Axis')\n",
    "plt.ylabel('Y Axis')\n",
    "plt.show()"
   ]
  },
  {
   "cell_type": "code",
   "execution_count": null,
   "id": "81885947",
   "metadata": {},
   "outputs": [],
   "source": [
    "plt.hist(x)"
   ]
  },
  {
   "cell_type": "code",
   "execution_count": null,
   "id": "b12c15ed",
   "metadata": {},
   "outputs": [],
   "source": [
    "plt.quiver(x,y)"
   ]
  },
  {
   "cell_type": "code",
   "execution_count": null,
   "id": "26986666",
   "metadata": {},
   "outputs": [],
   "source": [
    "plt.hist2d(x,y)"
   ]
  },
  {
   "cell_type": "code",
   "execution_count": null,
   "id": "f0247e23",
   "metadata": {},
   "outputs": [],
   "source": [
    "import numpy as np"
   ]
  },
  {
   "cell_type": "code",
   "execution_count": null,
   "id": "87df5af2",
   "metadata": {},
   "outputs": [],
   "source": [
    "a2 = np.array([[1,2,3,4],[2,5,1,7],[8,7,3,4]])\n",
    "a2"
   ]
  },
  {
   "cell_type": "code",
   "execution_count": null,
   "id": "a986ea1c",
   "metadata": {},
   "outputs": [],
   "source": [
    "type(a2)"
   ]
  },
  {
   "cell_type": "code",
   "execution_count": null,
   "id": "86a0d431",
   "metadata": {},
   "outputs": [],
   "source": [
    "print(a2.shape)"
   ]
  },
  {
   "cell_type": "code",
   "execution_count": null,
   "id": "fb5af1b6",
   "metadata": {},
   "outputs": [],
   "source": [
    "print(a2.ndim)"
   ]
  },
  {
   "cell_type": "code",
   "execution_count": null,
   "id": "7b05a3d9",
   "metadata": {},
   "outputs": [],
   "source": [
    "import numpy as np"
   ]
  },
  {
   "cell_type": "code",
   "execution_count": null,
   "id": "7b9c40dd",
   "metadata": {},
   "outputs": [],
   "source": [
    "a4 = np.array([[4,3,5],[1,2,3],[4,5,6],[7,5,4]])\n",
    "a4"
   ]
  },
  {
   "cell_type": "code",
   "execution_count": null,
   "id": "32b2b99d",
   "metadata": {},
   "outputs": [],
   "source": [
    "print(a4.shape)"
   ]
  },
  {
   "cell_type": "code",
   "execution_count": null,
   "id": "c825ffa7",
   "metadata": {},
   "outputs": [],
   "source": [
    "print(a4.ndim)"
   ]
  },
  {
   "cell_type": "code",
   "execution_count": null,
   "id": "8ddcb652",
   "metadata": {},
   "outputs": [],
   "source": [
    "print(a4.size)"
   ]
  },
  {
   "cell_type": "code",
   "execution_count": null,
   "id": "a6c937e3",
   "metadata": {},
   "outputs": [],
   "source": [
    "np.arange(1,7)"
   ]
  },
  {
   "cell_type": "code",
   "execution_count": null,
   "id": "fa5a03be",
   "metadata": {},
   "outputs": [],
   "source": [
    "np.arange(1,100,18)"
   ]
  },
  {
   "cell_type": "code",
   "execution_count": null,
   "id": "adae7db4",
   "metadata": {},
   "outputs": [],
   "source": [
    "np.arange(100,1,-25)"
   ]
  },
  {
   "cell_type": "code",
   "execution_count": null,
   "id": "47b4148e",
   "metadata": {},
   "outputs": [],
   "source": [
    "np.random.rand(2,5)"
   ]
  },
  {
   "cell_type": "code",
   "execution_count": null,
   "id": "c60efe48",
   "metadata": {},
   "outputs": [],
   "source": [
    "import numpy as np"
   ]
  },
  {
   "cell_type": "code",
   "execution_count": null,
   "id": "190515e3",
   "metadata": {},
   "outputs": [],
   "source": [
    "a2 = np.array([[1,2,3],[2,5,1],[8,7,3]])\n",
    "a2"
   ]
  },
  {
   "cell_type": "code",
   "execution_count": null,
   "id": "8bc41a12",
   "metadata": {},
   "outputs": [],
   "source": [
    "a4 = np.array([[4,3,5],[1,2,3],[4,5,6]])\n",
    "a4"
   ]
  },
  {
   "cell_type": "code",
   "execution_count": null,
   "id": "e0213851",
   "metadata": {
    "scrolled": true
   },
   "outputs": [],
   "source": [
    "np.hstack((a2,a4))"
   ]
  },
  {
   "cell_type": "code",
   "execution_count": null,
   "id": "d5f67d16",
   "metadata": {},
   "outputs": [],
   "source": [
    "a4=[[1,2],[3,4]]\n",
    "a4"
   ]
  },
  {
   "cell_type": "code",
   "execution_count": null,
   "id": "39a1577b",
   "metadata": {},
   "outputs": [],
   "source": [
    "a4 > 2"
   ]
  },
  {
   "cell_type": "code",
   "execution_count": null,
   "id": "505630b7",
   "metadata": {},
   "outputs": [],
   "source": [
    "import numpy as np\n"
   ]
  },
  {
   "cell_type": "code",
   "execution_count": null,
   "id": "f3bfabc6",
   "metadata": {},
   "outputs": [],
   "source": [
    "import pandas as pd"
   ]
  },
  {
   "cell_type": "code",
   "execution_count": null,
   "id": "38c9b084",
   "metadata": {},
   "outputs": [],
   "source": [
    "df1 = pd.DataFrame([[1,2,3,6],[5,6,7,9],[4,2,8,1]])#data frame\n",
    "df1"
   ]
  },
  {
   "cell_type": "code",
   "execution_count": null,
   "id": "1db3f4a6",
   "metadata": {},
   "outputs": [],
   "source": [
    "df2 = pd.DataFrame([[1,2,34],[45,34,5]])"
   ]
  },
  {
   "cell_type": "code",
   "execution_count": null,
   "id": "62373e48",
   "metadata": {},
   "outputs": [],
   "source": [
    "df2"
   ]
  },
  {
   "cell_type": "code",
   "execution_count": null,
   "id": "5471d2f3",
   "metadata": {},
   "outputs": [],
   "source": [
    "df2.index = ['R1','R2']\n",
    "df2.columns = ['C1','C2','C3']\n",
    "df2"
   ]
  },
  {
   "cell_type": "code",
   "execution_count": null,
   "id": "17a002d2",
   "metadata": {},
   "outputs": [],
   "source": [
    "df1.index='R1 R2 R3 '.split()\n",
    "df1.columns='C1 C2 C3 C4'.split()\n",
    "df1"
   ]
  },
  {
   "cell_type": "code",
   "execution_count": null,
   "id": "c4305cdc",
   "metadata": {},
   "outputs": [],
   "source": [
    "df3 = pd.DataFrame(tuple([[1,2,3],[4,5,6]]))\n",
    "df3"
   ]
  },
  {
   "cell_type": "code",
   "execution_count": null,
   "id": "6d929a08",
   "metadata": {},
   "outputs": [],
   "source": [
    "df4=pd.DataFrame(np.random.randint(1,2000,18).reshape(6,3))\n",
    "df4"
   ]
  },
  {
   "cell_type": "code",
   "execution_count": null,
   "id": "18bcc570",
   "metadata": {},
   "outputs": [],
   "source": [
    "import numpy as np\n",
    "from scipy import stats"
   ]
  },
  {
   "cell_type": "code",
   "execution_count": null,
   "id": "f7b32e2c",
   "metadata": {},
   "outputs": [],
   "source": [
    "H0: Marriage age of male in India is 30 \n",
    "Ha: Marriage age of male in India is not 30 \n",
    "30 is the hypothesised mean"
   ]
  },
  {
   "cell_type": "code",
   "execution_count": null,
   "id": "6b350fe0",
   "metadata": {},
   "outputs": [],
   "source": [
    "mar_age=[39, 47, 40, 39, 18, 31, 42, 38, 32, 40]\n",
    "mar_age"
   ]
  },
  {
   "cell_type": "code",
   "execution_count": null,
   "id": "8765d026",
   "metadata": {},
   "outputs": [],
   "source": [
    "stats.ttest_1samp(mar_age,30)"
   ]
  },
  {
   "cell_type": "code",
   "execution_count": null,
   "id": "bbb2d219",
   "metadata": {},
   "outputs": [],
   "source": [
    "mar_age1= [30,34,31,32,28,33,22,35,32,30]\n",
    "mar_age1"
   ]
  },
  {
   "cell_type": "code",
   "execution_count": null,
   "id": "f249ba0f",
   "metadata": {},
   "outputs": [],
   "source": [
    "units = int(input('Please enter the number of unit you consumed: '))\n",
    "if(units < 50):\n",
    "    amount = units * 2.60\n",
    "    surcharge = 25\n",
    "elif(units <= 100):\n",
    "    amount = 130 + ((units - 50)*3.25)\n",
    "    surcharge = 35\n",
    "elif(units <= 200):\n",
    "    amount = 130 + 162.50 + ((units - 100)* 5.26)\n",
    "    surcharge = 45\n",
    "else:\n",
    "    amount = 130 + 162.50 + 526 + ((units - 200)*8.45)\n",
    "    surcharge = 75\n",
    "total = amount + surcharge \n",
    "print('\\n Electricity Bill = %.2f' % total)b\n"
   ]
  },
  {
   "cell_type": "code",
   "execution_count": null,
   "id": "d4dee782",
   "metadata": {},
   "outputs": [],
   "source": [
    "import numpy as np\n",
    "import pandas as pd"
   ]
  },
  {
   "cell_type": "code",
   "execution_count": null,
   "id": "0c91aebd",
   "metadata": {},
   "outputs": [],
   "source": [
    "data = pd.read_csv('pen_price.csv')\n",
    "data.head()"
   ]
  },
  {
   "cell_type": "code",
   "execution_count": null,
   "id": "fc71ad68",
   "metadata": {},
   "outputs": [],
   "source": [
    "print(data.shape)"
   ]
  },
  {
   "cell_type": "code",
   "execution_count": null,
   "id": "ea840ef3",
   "metadata": {},
   "outputs": [],
   "source": [
    "data.info()"
   ]
  },
  {
   "cell_type": "code",
   "execution_count": null,
   "id": "c08b7693",
   "metadata": {},
   "outputs": [],
   "source": [
    "data.info"
   ]
  },
  {
   "cell_type": "code",
   "execution_count": null,
   "id": "593c212f",
   "metadata": {},
   "outputs": [],
   "source": [
    "data .describe() #statistical info"
   ]
  },
  {
   "cell_type": "code",
   "execution_count": null,
   "id": "01991ab0",
   "metadata": {},
   "outputs": [],
   "source": [
    "data.isnull().sum()"
   ]
  },
  {
   "cell_type": "code",
   "execution_count": null,
   "id": "486713e9",
   "metadata": {},
   "outputs": [],
   "source": [
    "X=data[['pen']]\n",
    "y=data[['price']]\n",
    "print(X.head(4))\n",
    "print(y.head(2))"
   ]
  },
  {
   "cell_type": "code",
   "execution_count": null,
   "id": "e8ebb8e8",
   "metadata": {},
   "outputs": [],
   "source": [
    "#spliting the data trainng and testing\n",
    "from sklearn.model_selection import train_test_split"
   ]
  },
  {
   "cell_type": "code",
   "execution_count": null,
   "id": "feaea0a1",
   "metadata": {},
   "outputs": [],
   "source": [
    "num=int(input(\"Enter a number\"))\n",
    "if num%2==0:\n",
    "    print(\"the no is even\")\n",
    "else:\n",
    "    print(\"the no is odd\")"
   ]
  },
  {
   "cell_type": "code",
   "execution_count": null,
   "id": "d7663fc1",
   "metadata": {},
   "outputs": [],
   "source": [
    "from sklearn.linear_model import LinearRegression\n",
    "model = LinearRegression()"
   ]
  },
  {
   "cell_type": "code",
   "execution_count": null,
   "id": "1add16e8",
   "metadata": {},
   "outputs": [],
   "source": [
    "model.fit(x_train,Y_train)"
   ]
  },
  {
   "cell_type": "code",
   "execution_count": null,
   "id": "276dabc1",
   "metadata": {},
   "outputs": [],
   "source": [
    "import pandas as pd\n",
    "from sklearn.linear_model import LinearRegression\n",
    "from sklearn.model_selection import train_test_split\n",
    "from sklearn.metrics import r2_score,mean_absolute_error,mean_squared_error"
   ]
  },
  {
   "cell_type": "code",
   "execution_count": null,
   "id": "377583e5",
   "metadata": {},
   "outputs": [],
   "source": [
    "data = pd.read_csv('hp_data (1).csv')\n",
    "data.head()"
   ]
  },
  {
   "cell_type": "code",
   "execution_count": null,
   "id": "de823bdb",
   "metadata": {},
   "outputs": [],
   "source": [
    "data.shape"
   ]
  },
  {
   "cell_type": "code",
   "execution_count": null,
   "id": "59c8f452",
   "metadata": {},
   "outputs": [],
   "source": [
    "data.info()"
   ]
  },
  {
   "cell_type": "code",
   "execution_count": null,
   "id": "9378649e",
   "metadata": {},
   "outputs": [],
   "source": [
    "data.describe()"
   ]
  },
  {
   "cell_type": "code",
   "execution_count": null,
   "id": "e102ccef",
   "metadata": {},
   "outputs": [],
   "source": [
    "data.isnull().sum()"
   ]
  },
  {
   "cell_type": "code",
   "execution_count": null,
   "id": "dae355b2",
   "metadata": {},
   "outputs": [],
   "source": [
    "data.corr()"
   ]
  },
  {
   "cell_type": "code",
   "execution_count": null,
   "id": "3f082186",
   "metadata": {},
   "outputs": [],
   "source": [
    "data.corrwith(data.price)"
   ]
  },
  {
   "cell_type": "code",
   "execution_count": null,
   "id": "2cc7b84d",
   "metadata": {},
   "outputs": [],
   "source": [
    "X = data.loc[:,['sqft','totalFloor','bhk']]\n",
    "y = data[['price']]"
   ]
  },
  {
   "cell_type": "code",
   "execution_count": null,
   "id": "1ba5bdfb",
   "metadata": {},
   "outputs": [],
   "source": [
    "X_train,X_test,y_train,y_test = train_test_split(X,y)"
   ]
  },
  {
   "cell_type": "code",
   "execution_count": null,
   "id": "c844c440",
   "metadata": {},
   "outputs": [],
   "source": [
    "X_train.shape"
   ]
  },
  {
   "cell_type": "code",
   "execution_count": null,
   "id": "6352787c",
   "metadata": {},
   "outputs": [],
   "source": [
    "X_test.shape"
   ]
  },
  {
   "cell_type": "code",
   "execution_count": null,
   "id": "d9f1df87",
   "metadata": {},
   "outputs": [],
   "source": [
    "model = LinearRegression()\n",
    "model"
   ]
  },
  {
   "cell_type": "code",
   "execution_count": 5,
   "id": "96a39070",
   "metadata": {},
   "outputs": [],
   "source": [
    "import numpy as np\n",
    "import pandas as pd\n",
    "from sklearn.model_selection import train_test_split\n",
    "from sklearn.linear_model import LogisticRegression\n",
    "from sklearn.metrics import accuracy_score, confusion_matrix, classification_report"
   ]
  },
  {
   "cell_type": "code",
   "execution_count": 8,
   "id": "5a14a5c1",
   "metadata": {},
   "outputs": [
    {
     "data": {
      "text/html": [
       "<div>\n",
       "<style scoped>\n",
       "    .dataframe tbody tr th:only-of-type {\n",
       "        vertical-align: middle;\n",
       "    }\n",
       "\n",
       "    .dataframe tbody tr th {\n",
       "        vertical-align: top;\n",
       "    }\n",
       "\n",
       "    .dataframe thead th {\n",
       "        text-align: right;\n",
       "    }\n",
       "</style>\n",
       "<table border=\"1\" class=\"dataframe\">\n",
       "  <thead>\n",
       "    <tr style=\"text-align: right;\">\n",
       "      <th></th>\n",
       "      <th>age</th>\n",
       "      <th>bought_insurance</th>\n",
       "    </tr>\n",
       "  </thead>\n",
       "  <tbody>\n",
       "    <tr>\n",
       "      <th>0</th>\n",
       "      <td>22</td>\n",
       "      <td>0</td>\n",
       "    </tr>\n",
       "    <tr>\n",
       "      <th>1</th>\n",
       "      <td>25</td>\n",
       "      <td>0</td>\n",
       "    </tr>\n",
       "    <tr>\n",
       "      <th>2</th>\n",
       "      <td>47</td>\n",
       "      <td>1</td>\n",
       "    </tr>\n",
       "    <tr>\n",
       "      <th>3</th>\n",
       "      <td>52</td>\n",
       "      <td>0</td>\n",
       "    </tr>\n",
       "    <tr>\n",
       "      <th>4</th>\n",
       "      <td>46</td>\n",
       "      <td>1</td>\n",
       "    </tr>\n",
       "  </tbody>\n",
       "</table>\n",
       "</div>"
      ],
      "text/plain": [
       "   age  bought_insurance\n",
       "0   22                 0\n",
       "1   25                 0\n",
       "2   47                 1\n",
       "3   52                 0\n",
       "4   46                 1"
      ]
     },
     "execution_count": 8,
     "metadata": {},
     "output_type": "execute_result"
    }
   ],
   "source": [
    "data = pd. read_csv(\"insurance.csv\")\n",
    "data.head()"
   ]
  },
  {
   "cell_type": "code",
   "execution_count": 9,
   "id": "159d53ea",
   "metadata": {},
   "outputs": [
    {
     "data": {
      "text/plain": [
       "(27, 2)"
      ]
     },
     "execution_count": 9,
     "metadata": {},
     "output_type": "execute_result"
    }
   ],
   "source": [
    "data.shape"
   ]
  },
  {
   "cell_type": "code",
   "execution_count": 10,
   "id": "224f4260",
   "metadata": {},
   "outputs": [
    {
     "name": "stdout",
     "output_type": "stream",
     "text": [
      "<class 'pandas.core.frame.DataFrame'>\n",
      "RangeIndex: 27 entries, 0 to 26\n",
      "Data columns (total 2 columns):\n",
      " #   Column            Non-Null Count  Dtype\n",
      "---  ------            --------------  -----\n",
      " 0   age               27 non-null     int64\n",
      " 1   bought_insurance  27 non-null     int64\n",
      "dtypes: int64(2)\n",
      "memory usage: 560.0 bytes\n"
     ]
    }
   ],
   "source": [
    " data.info()"
   ]
  },
  {
   "cell_type": "code",
   "execution_count": 11,
   "id": "b05f617b",
   "metadata": {},
   "outputs": [
    {
     "data": {
      "text/plain": [
       "array([0, 1], dtype=int64)"
      ]
     },
     "execution_count": 11,
     "metadata": {},
     "output_type": "execute_result"
    }
   ],
   "source": [
    "data.bought_insurance.unique()"
   ]
  },
  {
   "cell_type": "code",
   "execution_count": 12,
   "id": "7b09dcd9",
   "metadata": {},
   "outputs": [
    {
     "data": {
      "text/html": [
       "<div>\n",
       "<style scoped>\n",
       "    .dataframe tbody tr th:only-of-type {\n",
       "        vertical-align: middle;\n",
       "    }\n",
       "\n",
       "    .dataframe tbody tr th {\n",
       "        vertical-align: top;\n",
       "    }\n",
       "\n",
       "    .dataframe thead th {\n",
       "        text-align: right;\n",
       "    }\n",
       "</style>\n",
       "<table border=\"1\" class=\"dataframe\">\n",
       "  <thead>\n",
       "    <tr style=\"text-align: right;\">\n",
       "      <th></th>\n",
       "      <th>age</th>\n",
       "      <th>bought_insurance</th>\n",
       "    </tr>\n",
       "  </thead>\n",
       "  <tbody>\n",
       "    <tr>\n",
       "      <th>count</th>\n",
       "      <td>27.000000</td>\n",
       "      <td>27.000000</td>\n",
       "    </tr>\n",
       "    <tr>\n",
       "      <th>mean</th>\n",
       "      <td>39.666667</td>\n",
       "      <td>0.518519</td>\n",
       "    </tr>\n",
       "    <tr>\n",
       "      <th>std</th>\n",
       "      <td>15.745573</td>\n",
       "      <td>0.509175</td>\n",
       "    </tr>\n",
       "    <tr>\n",
       "      <th>min</th>\n",
       "      <td>18.000000</td>\n",
       "      <td>0.000000</td>\n",
       "    </tr>\n",
       "    <tr>\n",
       "      <th>25%</th>\n",
       "      <td>25.000000</td>\n",
       "      <td>0.000000</td>\n",
       "    </tr>\n",
       "    <tr>\n",
       "      <th>50%</th>\n",
       "      <td>45.000000</td>\n",
       "      <td>1.000000</td>\n",
       "    </tr>\n",
       "    <tr>\n",
       "      <th>75%</th>\n",
       "      <td>54.500000</td>\n",
       "      <td>1.000000</td>\n",
       "    </tr>\n",
       "    <tr>\n",
       "      <th>max</th>\n",
       "      <td>62.000000</td>\n",
       "      <td>1.000000</td>\n",
       "    </tr>\n",
       "  </tbody>\n",
       "</table>\n",
       "</div>"
      ],
      "text/plain": [
       "             age  bought_insurance\n",
       "count  27.000000         27.000000\n",
       "mean   39.666667          0.518519\n",
       "std    15.745573          0.509175\n",
       "min    18.000000          0.000000\n",
       "25%    25.000000          0.000000\n",
       "50%    45.000000          1.000000\n",
       "75%    54.500000          1.000000\n",
       "max    62.000000          1.000000"
      ]
     },
     "execution_count": 12,
     "metadata": {},
     "output_type": "execute_result"
    }
   ],
   "source": [
    "data.describe()"
   ]
  },
  {
   "cell_type": "code",
   "execution_count": 13,
   "id": "42a98f7f",
   "metadata": {},
   "outputs": [
    {
     "data": {
      "text/plain": [
       "age                 0\n",
       "bought_insurance    0\n",
       "dtype: int64"
      ]
     },
     "execution_count": 13,
     "metadata": {},
     "output_type": "execute_result"
    }
   ],
   "source": [
    "data.isnull().sum()"
   ]
  },
  {
   "cell_type": "code",
   "execution_count": 14,
   "id": "61917d58",
   "metadata": {},
   "outputs": [],
   "source": [
    "X = data[['age']]\n",
    "y = data[['bought_insurance']]"
   ]
  },
  {
   "cell_type": "code",
   "execution_count": 15,
   "id": "af44d839",
   "metadata": {},
   "outputs": [
    {
     "data": {
      "text/plain": [
       "(20, 1)"
      ]
     },
     "execution_count": 15,
     "metadata": {},
     "output_type": "execute_result"
    }
   ],
   "source": [
    "X_train,X_test,y_train,y_test = train_test_split(X,y)\n",
    "X_train.shape"
   ]
  },
  {
   "cell_type": "code",
   "execution_count": 16,
   "id": "aff4858e",
   "metadata": {},
   "outputs": [
    {
     "data": {
      "text/plain": [
       "(7, 1)"
      ]
     },
     "execution_count": 16,
     "metadata": {},
     "output_type": "execute_result"
    }
   ],
   "source": [
    "X_test.shape"
   ]
  },
  {
   "cell_type": "code",
   "execution_count": 17,
   "id": "440fac9a",
   "metadata": {},
   "outputs": [
    {
     "data": {
      "text/plain": [
       "(7, 1)"
      ]
     },
     "execution_count": 17,
     "metadata": {},
     "output_type": "execute_result"
    }
   ],
   "source": [
    "y_test.shape"
   ]
  },
  {
   "cell_type": "code",
   "execution_count": 18,
   "id": "994a5e88",
   "metadata": {},
   "outputs": [
    {
     "data": {
      "text/plain": [
       "LogisticRegression()"
      ]
     },
     "execution_count": 18,
     "metadata": {},
     "output_type": "execute_result"
    }
   ],
   "source": [
    "model = LogisticRegression()\n",
    "model"
   ]
  },
  {
   "cell_type": "code",
   "execution_count": 19,
   "id": "4c1a3e35",
   "metadata": {},
   "outputs": [
    {
     "name": "stderr",
     "output_type": "stream",
     "text": [
      "E:\\Users\\ACER\\anaconda3\\lib\\site-packages\\sklearn\\utils\\validation.py:63: DataConversionWarning: A column-vector y was passed when a 1d array was expected. Please change the shape of y to (n_samples, ), for example using ravel().\n",
      "  return f(*args, **kwargs)\n"
     ]
    },
    {
     "data": {
      "text/plain": [
       "LogisticRegression()"
      ]
     },
     "execution_count": 19,
     "metadata": {},
     "output_type": "execute_result"
    }
   ],
   "source": [
    "model.fit(X_train,y_train)"
   ]
  },
  {
   "cell_type": "code",
   "execution_count": 20,
   "id": "189b3e89",
   "metadata": {},
   "outputs": [
    {
     "data": {
      "text/plain": [
       "array([0, 1, 1, 0, 0, 1, 0], dtype=int64)"
      ]
     },
     "execution_count": 20,
     "metadata": {},
     "output_type": "execute_result"
    }
   ],
   "source": [
    "y_predict = model.predict(X_test)\n",
    "y_predict"
   ]
  },
  {
   "cell_type": "code",
   "execution_count": 21,
   "id": "70de3d56",
   "metadata": {},
   "outputs": [
    {
     "data": {
      "text/plain": [
       "(    age\n",
       " 1    25\n",
       " 25   54\n",
       " 17   58\n",
       " 16   25\n",
       " 18   19\n",
       " 8    62\n",
       " 21   26,\n",
       "     bought_insurance\n",
       " 1                  0\n",
       " 25                 1\n",
       " 17                 1\n",
       " 16                 1\n",
       " 18                 0\n",
       " 8                  1\n",
       " 21                 0)"
      ]
     },
     "execution_count": 21,
     "metadata": {},
     "output_type": "execute_result"
    }
   ],
   "source": [
    "X_test,y_test"
   ]
  },
  {
   "cell_type": "code",
   "execution_count": 22,
   "id": "121d9575",
   "metadata": {},
   "outputs": [
    {
     "data": {
      "text/html": [
       "<div>\n",
       "<style scoped>\n",
       "    .dataframe tbody tr th:only-of-type {\n",
       "        vertical-align: middle;\n",
       "    }\n",
       "\n",
       "    .dataframe tbody tr th {\n",
       "        vertical-align: top;\n",
       "    }\n",
       "\n",
       "    .dataframe thead th {\n",
       "        text-align: right;\n",
       "    }\n",
       "</style>\n",
       "<table border=\"1\" class=\"dataframe\">\n",
       "  <thead>\n",
       "    <tr style=\"text-align: right;\">\n",
       "      <th></th>\n",
       "      <th>bought_insurance</th>\n",
       "    </tr>\n",
       "  </thead>\n",
       "  <tbody>\n",
       "    <tr>\n",
       "      <th>1</th>\n",
       "      <td>0</td>\n",
       "    </tr>\n",
       "    <tr>\n",
       "      <th>25</th>\n",
       "      <td>1</td>\n",
       "    </tr>\n",
       "    <tr>\n",
       "      <th>17</th>\n",
       "      <td>1</td>\n",
       "    </tr>\n",
       "    <tr>\n",
       "      <th>16</th>\n",
       "      <td>1</td>\n",
       "    </tr>\n",
       "    <tr>\n",
       "      <th>18</th>\n",
       "      <td>0</td>\n",
       "    </tr>\n",
       "    <tr>\n",
       "      <th>8</th>\n",
       "      <td>1</td>\n",
       "    </tr>\n",
       "    <tr>\n",
       "      <th>21</th>\n",
       "      <td>0</td>\n",
       "    </tr>\n",
       "  </tbody>\n",
       "</table>\n",
       "</div>"
      ],
      "text/plain": [
       "    bought_insurance\n",
       "1                  0\n",
       "25                 1\n",
       "17                 1\n",
       "16                 1\n",
       "18                 0\n",
       "8                  1\n",
       "21                 0"
      ]
     },
     "execution_count": 22,
     "metadata": {},
     "output_type": "execute_result"
    }
   ],
   "source": [
    "y_test"
   ]
  },
  {
   "cell_type": "code",
   "execution_count": null,
   "id": "f1fedf4f",
   "metadata": {},
   "outputs": [],
   "source": []
  },
  {
   "cell_type": "code",
   "execution_count": 1,
   "id": "3760d11f",
   "metadata": {},
   "outputs": [],
   "source": [
    "#task\n"
   ]
  },
  {
   "cell_type": "code",
   "execution_count": 3,
   "id": "28b237fa",
   "metadata": {},
   "outputs": [
    {
     "name": "stdout",
     "output_type": "stream",
     "text": [
      "45 x 1 = 45\n",
      "45 x 2 = 90\n",
      "45 x 3 = 135\n",
      "45 x 4 = 180\n",
      "45 x 5 = 225\n",
      "45 x 6 = 270\n",
      "45 x 7 = 315\n",
      "45 x 8 = 360\n",
      "45 x 9 = 405\n",
      "45 x 10 = 450\n"
     ]
    }
   ],
   "source": [
    "# table of 45\n",
    "num = 45\n",
    "for i in range(1, 11):\n",
    "    print(num, 'x', i, '=', num*i)"
   ]
  },
  {
   "cell_type": "code",
   "execution_count": 7,
   "id": "cc4dd56c",
   "metadata": {},
   "outputs": [
    {
     "name": "stdout",
     "output_type": "stream",
     "text": [
      "Enter a number you want to5\n",
      "The sum of natural number = 15\n"
     ]
    }
   ],
   "source": [
    "#  sum of natural number\n",
    "n = int(input('Enter a number you want to'))\n",
    "sum = 0\n",
    "i = 1\n",
    "while (i<= n):\n",
    "    sum = i +sum\n",
    "    i =i+ 1\n",
    "print('The sum of natural number =', sum)"
   ]
  },
  {
   "cell_type": "code",
   "execution_count": 8,
   "id": "97fb8284",
   "metadata": {},
   "outputs": [
    {
     "name": "stdout",
     "output_type": "stream",
     "text": [
      "Enter a number you want to5\n",
      "the factorial of the no is = 120\n"
     ]
    }
   ],
   "source": [
    "#factorial\n",
    "i = int(input('Enter a number you want to'))\n",
    "fac=1\n",
    "while(i>0):\n",
    "    fac=i*fac\n",
    "    i=i-1\n",
    "print(\"the factorial of the no is =\",fac)"
   ]
  },
  {
   "cell_type": "code",
   "execution_count": 9,
   "id": "13773704",
   "metadata": {},
   "outputs": [
    {
     "name": "stdout",
     "output_type": "stream",
     "text": [
      "the number i want to print5\n",
      "1\n",
      "2\n",
      "3\n",
      "4\n",
      "5\n"
     ]
    }
   ],
   "source": [
    "n=int(input(\"the number i want to print\"))\n",
    "i=1\n",
    "while(i<=n):\n",
    "    print(i)\n",
    "    i=i+1"
   ]
  },
  {
   "cell_type": "code",
   "execution_count": 10,
   "id": "2c67bfde",
   "metadata": {},
   "outputs": [],
   "source": [
    "import numpy as np\n",
    "import pandas as pd"
   ]
  },
  {
   "cell_type": "code",
   "execution_count": 14,
   "id": "b90e4e10",
   "metadata": {},
   "outputs": [
    {
     "data": {
      "text/html": [
       "<div>\n",
       "<style scoped>\n",
       "    .dataframe tbody tr th:only-of-type {\n",
       "        vertical-align: middle;\n",
       "    }\n",
       "\n",
       "    .dataframe tbody tr th {\n",
       "        vertical-align: top;\n",
       "    }\n",
       "\n",
       "    .dataframe thead th {\n",
       "        text-align: right;\n",
       "    }\n",
       "</style>\n",
       "<table border=\"1\" class=\"dataframe\">\n",
       "  <thead>\n",
       "    <tr style=\"text-align: right;\">\n",
       "      <th></th>\n",
       "      <th>month</th>\n",
       "      <th>sales</th>\n",
       "    </tr>\n",
       "  </thead>\n",
       "  <tbody>\n",
       "    <tr>\n",
       "      <th>0</th>\n",
       "      <td>jan</td>\n",
       "      <td>50000</td>\n",
       "    </tr>\n",
       "    <tr>\n",
       "      <th>1</th>\n",
       "      <td>feb</td>\n",
       "      <td>62000</td>\n",
       "    </tr>\n",
       "    <tr>\n",
       "      <th>2</th>\n",
       "      <td>mar</td>\n",
       "      <td>21422</td>\n",
       "    </tr>\n",
       "    <tr>\n",
       "      <th>3</th>\n",
       "      <td>apr</td>\n",
       "      <td>25133</td>\n",
       "    </tr>\n",
       "    <tr>\n",
       "      <th>4</th>\n",
       "      <td>may</td>\n",
       "      <td>22543</td>\n",
       "    </tr>\n",
       "  </tbody>\n",
       "</table>\n",
       "</div>"
      ],
      "text/plain": [
       "  month  sales\n",
       "0   jan  50000\n",
       "1   feb  62000\n",
       "2   mar  21422\n",
       "3   apr  25133\n",
       "4   may  22543"
      ]
     },
     "execution_count": 14,
     "metadata": {},
     "output_type": "execute_result"
    }
   ],
   "source": [
    "data = pd.read_csv('sales of the month.csv')\n",
    "data.head()"
   ]
  },
  {
   "cell_type": "code",
   "execution_count": 15,
   "id": "3efe891a",
   "metadata": {},
   "outputs": [
    {
     "data": {
      "text/html": [
       "<div>\n",
       "<style scoped>\n",
       "    .dataframe tbody tr th:only-of-type {\n",
       "        vertical-align: middle;\n",
       "    }\n",
       "\n",
       "    .dataframe tbody tr th {\n",
       "        vertical-align: top;\n",
       "    }\n",
       "\n",
       "    .dataframe thead th {\n",
       "        text-align: right;\n",
       "    }\n",
       "</style>\n",
       "<table border=\"1\" class=\"dataframe\">\n",
       "  <thead>\n",
       "    <tr style=\"text-align: right;\">\n",
       "      <th></th>\n",
       "      <th>sales</th>\n",
       "    </tr>\n",
       "  </thead>\n",
       "  <tbody>\n",
       "    <tr>\n",
       "      <th>count</th>\n",
       "      <td>12.000000</td>\n",
       "    </tr>\n",
       "    <tr>\n",
       "      <th>mean</th>\n",
       "      <td>60564.500000</td>\n",
       "    </tr>\n",
       "    <tr>\n",
       "      <th>std</th>\n",
       "      <td>82320.328084</td>\n",
       "    </tr>\n",
       "    <tr>\n",
       "      <th>min</th>\n",
       "      <td>3334.000000</td>\n",
       "    </tr>\n",
       "    <tr>\n",
       "      <th>25%</th>\n",
       "      <td>22121.750000</td>\n",
       "    </tr>\n",
       "    <tr>\n",
       "      <th>50%</th>\n",
       "      <td>23660.000000</td>\n",
       "    </tr>\n",
       "    <tr>\n",
       "      <th>75%</th>\n",
       "      <td>53000.000000</td>\n",
       "    </tr>\n",
       "    <tr>\n",
       "      <th>max</th>\n",
       "      <td>233548.000000</td>\n",
       "    </tr>\n",
       "  </tbody>\n",
       "</table>\n",
       "</div>"
      ],
      "text/plain": [
       "               sales\n",
       "count      12.000000\n",
       "mean    60564.500000\n",
       "std     82320.328084\n",
       "min      3334.000000\n",
       "25%     22121.750000\n",
       "50%     23660.000000\n",
       "75%     53000.000000\n",
       "max    233548.000000"
      ]
     },
     "execution_count": 15,
     "metadata": {},
     "output_type": "execute_result"
    }
   ],
   "source": [
    "data.describe()"
   ]
  },
  {
   "cell_type": "code",
   "execution_count": null,
   "id": "09330c2f",
   "metadata": {},
   "outputs": [],
   "source": []
  }
 ],
 "metadata": {
  "kernelspec": {
   "display_name": "Python 3",
   "language": "python",
   "name": "python3"
  },
  "language_info": {
   "codemirror_mode": {
    "name": "ipython",
    "version": 3
   },
   "file_extension": ".py",
   "mimetype": "text/x-python",
   "name": "python",
   "nbconvert_exporter": "python",
   "pygments_lexer": "ipython3",
   "version": "3.8.8"
  }
 },
 "nbformat": 4,
 "nbformat_minor": 5
}
